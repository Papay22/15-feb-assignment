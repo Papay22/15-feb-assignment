{
 "cells": [
  {
   "cell_type": "code",
   "execution_count": null,
   "id": "f1383dcd-0748-4712-bf0f-593e75b7ea7a",
   "metadata": {},
   "outputs": [],
   "source": [
    "Multiprocessing in Python is a module that allows you to run multiple processes concurrently on a computer with multiple CPUs or cores. It is a way to execute multiple tasks simultaneously by splitting the workload across multiple processors.\n",
    "\n",
    "Multiprocessing is useful for improving the performance of CPU-bound tasks, such as data processing, machine learning, and scientific computing. By dividing the workload among multiple processors, multiprocessing can significantly reduce the time required to complete a task."
   ]
  },
  {
   "cell_type": "code",
   "execution_count": null,
   "id": "e2775d5f-afde-44c1-9d8f-163536d6f391",
   "metadata": {},
   "outputs": [],
   "source": [
    "Multiprocessing involves running multiple processes simultaneously, whereas multithreading involves running multiple threads within a single process. Here are some of the key differences between multiprocessing and multithreading:\n",
    "\n",
    "Isolation: In multiprocessing, each process runs in its own separate memory space, while in multithreading, all threads share the same memory space. This means that communication between processes is more difficult and requires specific mechanisms, such as inter-process communication (IPC), while communication between threads is simpler."
   ]
  },
  {
   "cell_type": "code",
   "execution_count": null,
   "id": "7c57f1e5-52f9-481a-a806-03f828871b0f",
   "metadata": {},
   "outputs": [],
   "source": [
    "import multiprocessing\n",
    "\n",
    "def my_function():\n",
    "    print(\"This is a child process\")\n",
    "\n",
    "if __name__ == '__main__':\n",
    "    # create a process\n",
    "    my_process = multiprocessing.Process(target=my_function)\n",
    "    \n",
    "    # start the process\n",
    "    my_process.start()\n",
    "    \n",
    "    # wait for the process to finish\n",
    "    my_process.join()\n",
    "    \n",
    "    print(\"Parent process completed\")"
   ]
  },
  {
   "cell_type": "code",
   "execution_count": null,
   "id": "bacfc91a-f6e7-4d04-ad4b-9d9b303743c9",
   "metadata": {},
   "outputs": [],
   "source": [
    "A multiprocessing pool in Python is a collection of worker processes that can be used to execute tasks concurrently. The multiprocessing module provides a Pool class that can be used to create and manage a pool of worker processes.\n",
    "\n",
    "The Pool class allows you to specify the number of worker processes to create. Each worker process in the pool is able to execute tasks independently, and the pool manages the allocation of tasks to the available workers."
   ]
  },
  {
   "cell_type": "code",
   "execution_count": null,
   "id": "85d30040-2814-4eae-8b29-0b3a632faa2a",
   "metadata": {},
   "outputs": [],
   "source": [
    "In Python, you can create a pool of worker processes using the Pool class provided by the multiprocessing module. Here's an example of how to create a pool of worker processes:\n",
    "\n",
    "import multiprocessing\n",
    "\n",
    "def my_function(x):\n",
    "    return x * x\n",
    "\n",
    "if __name__ == '__main__':\n",
    "    # create a pool with 4 worker processes\n",
    "    with multiprocessing.Pool(processes=4) as pool:\n",
    "        # submit tasks to the pool\n",
    "        results = [pool.apply_async(my_function, args=(x,)) for x in range(10)]\n",
    "        \n",
    "        # collect the results\n",
    "        output = [result.get() for result in results]\n",
    "        \n",
    "        print(output)"
   ]
  },
  {
   "cell_type": "code",
   "execution_count": null,
   "id": "93731cb6-6637-4d6a-ac3d-9a02dbd15f26",
   "metadata": {},
   "outputs": [],
   "source": []
  }
 ],
 "metadata": {
  "kernelspec": {
   "display_name": "Python 3 (ipykernel)",
   "language": "python",
   "name": "python3"
  },
  "language_info": {
   "codemirror_mode": {
    "name": "ipython",
    "version": 3
   },
   "file_extension": ".py",
   "mimetype": "text/x-python",
   "name": "python",
   "nbconvert_exporter": "python",
   "pygments_lexer": "ipython3",
   "version": "3.10.8"
  }
 },
 "nbformat": 4,
 "nbformat_minor": 5
}
